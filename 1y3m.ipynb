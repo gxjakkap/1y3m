{
 "cells": [
  {
   "cell_type": "markdown",
   "id": "26946a4f",
   "metadata": {},
   "source": [
    "### Setup for Google Colab\n",
    "(Probably not required but if the rest of the code doesn't work just run these cells first.)"
   ]
  },
  {
   "cell_type": "code",
   "execution_count": 1,
   "id": "ef617e54",
   "metadata": {},
   "outputs": [
    {
     "name": "stdout",
     "output_type": "stream",
     "text": [
      "Writing requirements.txt\n"
     ]
    }
   ],
   "source": [
    "%%writefile requirements.txt\n",
    "numpy\n",
    "matplotlib\n",
    "sys\n",
    "base64"
   ]
  },
  {
   "cell_type": "code",
   "execution_count": null,
   "id": "10159011",
   "metadata": {},
   "outputs": [],
   "source": [
    "!pip install -r requirements.txt"
   ]
  },
  {
   "cell_type": "markdown",
   "id": "2c7f42ec",
   "metadata": {},
   "source": [
    "# 1y3m\n",
    "1 ปีกับอีก 3 เดือนที่อยู่ด้วยกันมา ขอบคุณเธอมากๆจริงๆที่อยู่กันมานานขนาดนี้ ขอบคุณจริงๆ ตอนแรกว่าจะทำอีกอันนึง แต่ทำไม่เป็น;-; ลองทำดูแล้วไม่น่าออกมาเวิร์ค ทำได้แค่นี้;-;"
   ]
  },
  {
   "cell_type": "code",
   "execution_count": 2,
   "id": "fdbd1744",
   "metadata": {},
   "outputs": [
    {
     "data": {
      "image/png": "[encoded data removed]",
      "text/plain": [
       "<Figure size 432x288 with 1 Axes>"
      ]
     },
     "metadata": {
      "needs_background": "light"
     },
     "output_type": "display_data"
    }
   ],
   "source": [
    "import numpy as np\n",
    "import base64\n",
    "from matplotlib import pyplot as plt\n",
    "\n",
    "def decode(x):\n",
    "    b = base64.b64decode(x)\n",
    "    s = b.decode(\"utf-8\")\n",
    "    return s\n",
    "\n",
    "theta = np.linspace(0, 2 * np.pi, 100)\n",
    "txt = ['QmFpeW9r', 'R3VudHhKYWtrYSdzIGhlYXJ0']\n",
    "\n",
    "'''\n",
    "สมการไรไม่รู้เหมือนกัน ลอกมาจากเน็ต\n",
    "x = 16 * sin3(θ)\n",
    "y = 13 * cos(θ) - 5 * cos(2θ) - 2*cos(3θ) - cos(4θ)\n",
    "'''\n",
    "x = 16 * ( np.sin(theta) ** 3 )\n",
    "y = 13 * np.cos(theta) - 5* np.cos(2*theta) - 2 * np.cos(3*theta) - np.cos(4*theta)\n",
    "\n",
    "plt.plot(x, y)\n",
    "plt.text(0, 0, decode(txt[0]), fontsize=24, horizontalalignment='center')\n",
    "plt.title(decode(txt[1]))\n",
    "plt.show()"
   ]
  },
  {
   "cell_type": "code",
   "execution_count": 3,
   "id": "f50d49e9",
   "metadata": {},
   "outputs": [
    {
     "name": "stdout",
     "output_type": "stream",
     "text": [
      "เห็นมั้ย ในใจเค้ามีเธอคนเดียวเลยนะ \n",
      "สุดท้ายนี้อะ เค้าอยากจะบอกเทอว่า \n",
      "รักนะ รักที่สุดเลย และจะรักเทอแบบนี้ไปเรื่อยๆ \n",
      "ยังไงก็ อยู่กับเค้าไปนานๆได้มั้ย "
     ]
    }
   ],
   "source": [
    "import sys\n",
    "import base64\n",
    "from time import sleep\n",
    "\n",
    "def decode(x):\n",
    "    b = base64.b64decode(x)\n",
    "    s = b.decode(\"utf-8\")\n",
    "    return s\n",
    "\n",
    "def printout(text):\n",
    "    i = 0\n",
    "    while i<len(text):\n",
    "        sys.stdout.write(text[i])\n",
    "        sleep(0.05)\n",
    "        sys.stdout.flush()\n",
    "        i+=1\n",
    "        \n",
    "w = [\"4LmA4Lir4LmH4LiZ4Lih4Lix4LmJ4Lii\", \"4LmD4LiZ4LmD4LiI4LmA4LiE4LmJ4Liy4Lih4Li14LmA4LiY4Lit4LiE4LiZ4LmA4LiU4Li14Lii4Lin4LmA4Lil4Lii4LiZ4Liw\", \"XG4=\", \"4Liq4Li44LiU4LiX4LmJ4Liy4Lii4LiZ4Li14LmJ4Lit4Liw\", \"4LmA4LiE4LmJ4Liy4Lit4Lii4Liy4LiB4LiI4Liw4Lia4Lit4LiB4LmA4LiX4Lit4Lin4LmI4Liy\", \"XG4=\", \"4Lij4Lix4LiB4LiZ4Liw\", \"4Lij4Lix4LiB4LiX4Li14LmI4Liq4Li44LiU4LmA4Lil4Lii\", \"4LmB4Lil4Liw4LiI4Liw4Lij4Lix4LiB4LmA4LiX4Lit4LmB4Lia4Lia4LiZ4Li14LmJ4LmE4Lib4LmA4Lij4Li34LmI4Lit4Lii4LmG\", \"XG4=\", \"4Lii4Lix4LiH4LmE4LiH4LiB4LmH\", \"4Lit4Lii4Li54LmI4LiB4Lix4Lia4LmA4LiE4LmJ4Liy4LmE4Lib4LiZ4Liy4LiZ4LmG4LmE4LiU4LmJ4Lih4Lix4LmJ4Lii\"]\n",
    "\n",
    "a = 0\n",
    "while a<len(w):\n",
    "    if w[a] == \"XG4=\":\n",
    "        sys.stdout.write(\"\\n\")\n",
    "        sys.stdout.flush()\n",
    "    else:\n",
    "        printout(decode(w[a]))\n",
    "        sys.stdout.write(\" \")\n",
    "    sleep(0.5)\n",
    "    a+=1\n"
   ]
  }
 ],
 "metadata": {
  "kernelspec": {
   "display_name": "Python 3 (ipykernel)",
   "language": "python",
   "name": "python3"
  },
  "language_info": {
   "codemirror_mode": {
    "name": "ipython",
    "version": 3
   },
   "file_extension": ".py",
   "mimetype": "text/x-python",
   "name": "python",
   "nbconvert_exporter": "python",
   "pygments_lexer": "ipython3",
   "version": "3.10.1"
  }
 },
 "nbformat": 4,
 "nbformat_minor": 5
}
